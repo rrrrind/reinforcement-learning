{
 "cells": [
  {
   "cell_type": "markdown",
   "metadata": {},
   "source": [
    "<b>\n",
    "<div style=\"text-align: center;\">\n",
    "    <span style=\"font-size: 200%;\">モンテカルロ法 (Monte Carlo method)</span>\n",
    "</div><br>\n",
    "<div style=\"text-align: center;\">\n",
    "    <span style=\"font-size: 180%;\">～格子世界編～</span>\n",
    "</div>\n",
    "</b>\n",
    "\n",
    "<br>\n",
    "\n",
    "<b>\n",
    "<div style=\"text-align: right;\">\n",
    "    <span style=\"font-size: 150%;\">\n",
    "        2020/1/11\n",
    "    </span><br>\n",
    "    <span style=\"font-size: 150%;\">\n",
    "        Masaya Mori\n",
    "    </span>\n",
    "</div>\n",
    "</b>"
   ]
  },
  {
   "cell_type": "markdown",
   "metadata": {},
   "source": [
    "# 目的"
   ]
  },
  {
   "cell_type": "markdown",
   "metadata": {},
   "source": [
    "<span style=\"font-size: 120%;\"> 格子世界における状態価値をモンテカルロ法によって導出する．</span>"
   ]
  },
  {
   "cell_type": "markdown",
   "metadata": {},
   "source": [
    "# モンテカルロ法"
   ]
  },
  {
   "cell_type": "markdown",
   "metadata": {},
   "source": [
    "<span style=\"font-size: 120%;\"> モンテカルロ法とは，乱数を用いた試行(シミュレーション)を繰り返すことにより近似解を求める手法である．より具体的にいえば，シミュレーション対象の現象に対して，その入力に大量の乱数を十分与えて出力値を観測することで，その現象を確率的に解いてみる手法である．文字だけだとわかりにくいと思うので，ここで1つ例を挙げてみることとする．</span>"
   ]
  },
  {
   "cell_type": "markdown",
   "metadata": {},
   "source": [
    "## モンテカルロ法による円周率・円の面積の導出：理論編"
   ]
  },
  {
   "cell_type": "markdown",
   "metadata": {},
   "source": [
    "![問題設定：円周率](figure/culculate_pi.jpg)"
   ]
  },
  {
   "cell_type": "markdown",
   "metadata": {},
   "source": [
    "<span style=\"font-size: 120%;\"> 初めに，正方形の面積$As$と円の面積$Ac$を，\n",
    "    \\begin{align}\n",
    "        As &= 4 \\cdot R^{2}, \\\\\n",
    "        Ac &= 4 \\cdot a \\cdot R^{2}\n",
    "    \\end{align}\n",
    "とした時，円の面積係数$a$は，\n",
    "    $$ a = \\frac{Ac}{As} $$\n",
    "となり，正方形の面積と円の面積の比で表現することができる．</span>  \n",
    "\n",
    "<span style=\"font-size: 120%;\"> 次に，乱数に従うあるプロット$N$が，『円の内側に入った場合の$N_{in}$』と，『円の内側に入らなかった場合の$N_{out}$』を考える．この時，$N_{in}$と$N_{out}$の比は，\n",
    "    \\begin{align}\n",
    "        N_{in}:N_{out} = Ac : As-Ac\n",
    "    \\end{align}\n",
    "で表すことができる．</span>  \n",
    "\n",
    "<span style=\"font-size: 110%;\"> ※これは，仮に円が正方形の面積の8割を占めているとすると，プロットを打った時に円の内側に入る確率は8割で，円の外側になる確率は2割だよねーっと言ってるだけである．ついでに，これはプロット$N$を無限個打った時の関係性だと考えられる．つまり『近似』である．</span>  \n",
    "\n",
    "<span style=\"font-size: 120%;\">これを展開すると，\n",
    "    \\begin{align}\n",
    "        N_{out} \\cdot Ac &= N_{in} \\cdot (As - Ac), \\\\\n",
    "        \\frac{As - Ac}{Ac} &= \\frac{N_{out}}{N_{in}}, \\\\\n",
    "        \\frac{As}{Ac} - 1 &= \\frac{N_{out}}{N_{in}}, \\\\\n",
    "        \\frac{As}{Ac} &= \\frac{N_{in}}{N_{in}} + \\frac{N_{out}}{N_{in}}, \\\\\n",
    "        \\frac{As}{Ac} &= \\frac{N_{in}+N_{out}}{N_{in}}, \\\\\n",
    "        a &= \\frac{N_{in}}{N_{in}+N_{out}}\n",
    "    \\end{align}\n",
    "</span>  \n",
    "<span style=\"font-size: 120%;\"> となり，円の面積係数$a$を，円の内側に打たれたプロット数$N_{in}$と全体のプロット数$N$の比で算出(近似)できることがわかる．</span>  \n",
    "\n",
    "<span style=\"font-size: 120%;\"> したがって円周率$\\pi'$と円の面積$Ac$は，\n",
    "    \\begin{align}\n",
    "        \\label{eq:conclusion}\n",
    "        \\pi' &= \\frac{4 \\cdot N_{in}}{N_{in}+N_{out}} , \\\\\n",
    "        Ac &= \\pi' \\cdot R^{2}\n",
    "    \\end{align}\n",
    "により，算出可能である．</span>  \n",
    "\n",
    "<span style=\"font-size: 120%;\"> ついでに，$N_{in}$は[円の方程式](http://www.mathlion.jp/article/ar033.html)を使えば求まるよ! </span>  "
   ]
  },
  {
   "cell_type": "markdown",
   "metadata": {},
   "source": [
    "## モンテカルロ法による円周率・円の面積の導出：Pythonによる実装編"
   ]
  },
  {
   "cell_type": "code",
   "execution_count": 17,
   "metadata": {},
   "outputs": [],
   "source": [
    "import numpy as np\n",
    "import random\n",
    "import matplotlib.pyplot as plt\n",
    "#プロットの数\n",
    "N = 2000\n",
    "\n",
    "# 今回は 半径：R=3 とします．\n",
    "R = 3\n",
    "\n",
    "# π'の推移グラフの準備\n",
    "x_axis = np.zeros(N)\n",
    "y_axis = np.zeros(N)\n",
    "N_in = np.zeros(N)\n",
    "N_out = np.zeros(N)\n",
    "approx_pi = np.zeros(N)\n",
    "\n",
    "# π'を求めてみよう\n",
    "for i in range(N):\n",
    "    x_axis[i] = random.uniform(-R,R) # -R～Rの一様乱数\n",
    "    y_axis[i] = random.uniform(-R,R) # -R～Rの一様乱数\n",
    "    N_in[i] = np.count_nonzero(x_axis[0:i+1]**2 + y_axis[0:i+1]**2 <= R**2)\n",
    "    N_out[i] = np.count_nonzero(x_axis[0:i+1]**2 + y_axis[0:i+1]**2 > R**2)\n",
    "    approx_pi[i] = 4 * N_in[i] / (N_in[i] + N_out[i])\n",
    "\n",
    "circle_area = approx_pi[i] * R * R"
   ]
  },
  {
   "cell_type": "markdown",
   "metadata": {},
   "source": [
    "## モンテカルロ法による円周率・円の面積の導出：結果"
   ]
  },
  {
   "cell_type": "code",
   "execution_count": 18,
   "metadata": {},
   "outputs": [
    {
     "name": "stdout",
     "output_type": "stream",
     "text": [
      "円周率：3.142\n",
      "円の面積：28.278\n"
     ]
    },
    {
     "data": {
      "image/png": "[encoded data removed]",
      "text/plain": [
       "<Figure size 1152x288 with 1 Axes>"
      ]
     },
     "metadata": {
      "needs_background": "light"
     },
     "output_type": "display_data"
    }
   ],
   "source": [
    "plt.figure(figsize=(16, 4))\n",
    "plt.plot(approx_pi)\n",
    "print(\"円周率：\" + str(approx_pi[i]))\n",
    "print(\"円の面積：\" + str(circle_area))"
   ]
  },
  {
   "cell_type": "markdown",
   "metadata": {},
   "source": [
    "## 動的計画法とモンテカルロ法の違い"
   ]
  },
  {
   "cell_type": "markdown",
   "metadata": {},
   "source": [
    "<span style=\"font-size: 120%;\"> 動的計画法は，確率と報酬の総和を用いることで期待値を算出，つまり様々な値を机上計算しているイメージ．</span>  \n",
    "<span style=\"font-size: 120%;\"> モンテカルロ法は，とりあえず走らせてみることで確率を算出，つまり経験により値を求めているイメージ．</span>  \n",
    "\n",
    "<span style=\"font-size: 120%;\"> 例：サイコロの出目の期待値 </span>  \n",
    "<span style=\"font-size: 120%;\"> 動的計画法：サイコロを回すことなく，目が出る確率は全て$\\frac{1}{6}$で，報酬は$1～6$なので，期待値$E = \\frac{1}{6}\\sum^{6}_{i=1}i$により導出する．</span>  \n",
    "<span style=\"font-size: 120%;\"> モンテカルロ法：確率とか分からないから，とりあえず回してみる．1000回ぐらい回してみる．</span>  "
   ]
  },
  {
   "cell_type": "code",
   "execution_count": 14,
   "metadata": {},
   "outputs": [
    {
     "name": "stdout",
     "output_type": "stream",
     "text": [
      "Number of 1 :143, probability: 0.143\n",
      "Number of 2 :169, probability: 0.169\n",
      "Number of 3 :158, probability: 0.158\n",
      "Number of 4 :197, probability: 0.197\n",
      "Number of 5 :161, probability: 0.161\n",
      "Number of 6 :172, probability: 0.172\n"
     ]
    }
   ],
   "source": [
    "import numpy as np\n",
    "N = 1000\n",
    "dice = np.random.randint(1,7,N)\n",
    "for i in range(6):\n",
    "    print(\"Number of {0} :\".format(i+1) + np.str(np.sum(dice==(i+1)))+\", probability: {0}\".format(np.sum(dice==(i+1))/N))"
   ]
  },
  {
   "cell_type": "markdown",
   "metadata": {},
   "source": [
    "<span style=\"font-size: 120%;\"> 結果から，『1が出る確率は14.3%』『2が出る確率は16.9%』『3が出る確率は15.8%』『4が出る確率は19.7%』『5が出る確率は16.1%』『6が出る確率は17.2%』ということが分かった．したがって，$p_i$を出目$i$が出る確率とすると，期待値は$E = \\sum^{6}_{i=1}p_{i} \\cdot i$によって導出することができる．</span>  "
   ]
  },
  {
   "cell_type": "markdown",
   "metadata": {},
   "source": [
    "※ 今回は違いが明確に分かるようにこのような書き方をしたが，特に動的計画法は本来は再帰処理を高速化するためのアルゴリズムのことを指すので，厳密には異なるということを頭に入れておいてほしい．"
   ]
  },
  {
   "cell_type": "markdown",
   "metadata": {},
   "source": [
    "# 問題設定"
   ]
  },
  {
   "cell_type": "markdown",
   "metadata": {},
   "source": [
    "<span style=\"font-size: 120%;\"> 今回も格子世界(grid world)を対象に，各状態における状態価値を導出していく．一応，以下に格子世界の画像を記載する．</span>  \n",
    "※細かい条件や方策などは[状態価値関数(value state function)](https://github.com/rrrrind/reinforcement-learning/blob/master/DP/src/State%20Value%20Function/State_Value_Function.ipynb)を参照して下さい．"
   ]
  },
  {
   "cell_type": "markdown",
   "metadata": {},
   "source": [
    "![格子世界](figure/ProblemSetting.jpg)"
   ]
  },
  {
   "cell_type": "markdown",
   "metadata": {},
   "source": [
    "<span style=\"font-size: 120%;\"> モンテカルロ法の使い方としては，とりあえず，ある状態においてエージェントを行動させ，その時の報酬を記録し，それを何回も繰り返す．その後，報酬の平均を取れば，ある状態での状態価値を求めることができるはずである．</span>  \n",
    "\n",
    "<span style=\"font-size: 120%;\"> 状態価値をモンテカルロ法で求めるには，以下の条件を満たす必要がある．</span>  \n",
    "1. <span style=\"font-size: 120%;\"> 全ての状態を開始点にとることができる</span>  \n",
    "1. <span style=\"font-size: 120%;\"> エピソードは必ず終端状態を持つ（無限に続かない）</span>  \n",
    "1. <span style=\"font-size: 120%;\"> 経験しない枝分かれ状態があってはならない（全ての状態を無限回訪問する）</span>  \n",
    "\n",
    "<span style=\"font-size: 120%;\"> 1は，25個のどの状態を開始点にしても大丈夫ということである．  \n",
    "2は，始まりと終わりが必要ということである．格子世界は終わりがないので，今回は100stepで終了とする．  \n",
    "3は，経験できないような道があってはならないということ．例えば，斜め移動しないといけない場所があるなど．  \n",
    "</span>  "
   ]
  },
  {
   "cell_type": "markdown",
   "metadata": {},
   "source": [
    "# Pythonによる実装"
   ]
  },
  {
   "cell_type": "code",
   "execution_count": 1,
   "metadata": {},
   "outputs": [],
   "source": [
    "# まずは初期化\n",
    "\n",
    "import numpy as np\n",
    "import pro_setting # エージェントと格子世界のインポート\n",
    "\n",
    "epi_num = 100    # 何stepで終わりにするか \n",
    "epi_loop = 10000 # サンプリング回数\n",
    "\n",
    "Gamma = 0.9 # 割引係数 \n",
    "policy = [0.25, 0.25, 0.25, 0.25] # 方策\n",
    "\n",
    "# 格子世界の構築\n",
    "stage = pro_setting.generate_stage()\n",
    "\n",
    "# エージェントの呼び出し\n",
    "agent = pro_setting.Agent()\n",
    "\n",
    "# 各状態における報酬を加算するための配列\n",
    "reward_holder = np.zeros(len(stage))\n",
    "\n",
    "# 状態価値を収納する変数\n",
    "V = np.zeros(len(stage))\n",
    "\n",
    "# どの位置からスタートするかを予め決めておく\n",
    "start_pos = np.random.randint(0,len(stage),epi_loop)"
   ]
  },
  {
   "cell_type": "code",
   "execution_count": 2,
   "metadata": {},
   "outputs": [],
   "source": [
    "# 続いて，状態価値を求める\n",
    "\n",
    "for _, i in enumerate(start_pos):\n",
    "    \n",
    "    # 現在地の入力\n",
    "    agent.set_pos(stage[i])\n",
    "    \n",
    "    # その時のエピソードの行動を決定し，方策へ入力\n",
    "    episode = np.random.choice(4, size=epi_num, p=policy)\n",
    "    agent.set_pi(episode)\n",
    "\n",
    "    # 1時的に報酬を収納する変数\n",
    "    temp_reward = 0\n",
    "    \n",
    "    for j, action in enumerate(episode):\n",
    "        pre_pos = agent.get_pos()\n",
    "        agent.move(agent.get_actions()[action])\n",
    "        temp_reward += (Gamma**j) * agent.reward(pre_pos, agent.get_actions()[action])\n",
    "    \n",
    "    reward_holder[i] += temp_reward\n",
    "\n",
    "for l,reward in enumerate(reward_holder):\n",
    "    V[l] = reward / np.sum(start_pos==(l))"
   ]
  },
  {
   "cell_type": "markdown",
   "metadata": {},
   "source": [
    "# 結果"
   ]
  },
  {
   "cell_type": "code",
   "execution_count": 3,
   "metadata": {},
   "outputs": [
    {
     "name": "stdout",
     "output_type": "stream",
     "text": [
      "[[ 3.40798337  8.86133202  4.11467112  5.26944278  1.21831222]\n",
      " [ 1.63798957  3.01529376  2.27476085  1.84752839  0.68198435]\n",
      " [ 0.07433482  0.53706787  0.86719038  0.31665867 -0.31588721]\n",
      " [-1.03267686 -0.63732349 -0.3341659  -0.71699331 -1.11829457]\n",
      " [-1.68558162 -1.33044059 -1.19426797 -1.15167567 -2.13502888]]\n"
     ]
    }
   ],
   "source": [
    "print(V.reshape([5,5]))"
   ]
  },
  {
   "cell_type": "markdown",
   "metadata": {},
   "source": [
    "<span style=\"font-size: 120%;\"> 結果が正しそうなことが確認できた． </span>"
   ]
  },
  {
   "cell_type": "markdown",
   "metadata": {},
   "source": [
    "# 参考資料"
   ]
  },
  {
   "cell_type": "markdown",
   "metadata": {},
   "source": [
    "- [動的計画法（Dynamic Programming）をサルでも分かるように説明する - その１（フィボナッチ数列）](https://www.jabba.cloud/20161020172918/)\n",
    "- [モンテカルロ法](http://www3.nit.ac.jp/~tamura/tus/ex2/montecarlo.htm)\n",
    "- [モンテカルロ法のお話](https://unit.aist.go.jp/diversity/ja/jst/teens/montecarlo.htm)\n",
    "- [思考力を鍛える数学](http://www.mathlion.jp/article/ar033.html)\n",
    "- [今さら聞けない強化学習（7）：モンテカルロ法で価値推定](https://qiita.com/triwave33/items/0c8833e6b899c26b208e)"
   ]
  },
  {
   "cell_type": "code",
   "execution_count": null,
   "metadata": {},
   "outputs": [],
   "source": []
  }
 ],
 "metadata": {
  "author": "",
  "kernelspec": {
   "display_name": "Python 3",
   "language": "python",
   "name": "python3"
  },
  "language_info": {
   "codemirror_mode": {
    "name": "ipython",
    "version": 3
   },
   "file_extension": ".py",
   "mimetype": "text/x-python",
   "name": "python",
   "nbconvert_exporter": "python",
   "pygments_lexer": "ipython3",
   "version": "3.6.9"
  },
  "latex_envs": {
   "LaTeX_envs_menu_present": true,
   "autoclose": false,
   "autocomplete": true,
   "bibliofile": "biblio.bib",
   "cite_by": "apalike",
   "current_citInitial": 1,
   "eqLabelWithNumbers": true,
   "eqNumInitial": 1,
   "hotkeys": {
    "equation": "Ctrl-E",
    "itemize": "Ctrl-I"
   },
   "labels_anchors": false,
   "latex_user_defs": false,
   "report_style_numbering": false,
   "user_envs_cfg": false
  },
  "toc": {
   "base_numbering": 1,
   "nav_menu": {},
   "number_sections": true,
   "sideBar": true,
   "skip_h1_title": false,
   "title_cell": "Table of Contents",
   "title_sidebar": "Contents",
   "toc_cell": false,
   "toc_position": {},
   "toc_section_display": true,
   "toc_window_display": false
  },
  "toc-autonumbering": true
 },
 "nbformat": 4,
 "nbformat_minor": 4
}
